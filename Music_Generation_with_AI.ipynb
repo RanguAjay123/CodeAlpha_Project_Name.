{
  "nbformat": 4,
  "nbformat_minor": 0,
  "metadata": {
    "colab": {
      "provenance": [],
      "authorship_tag": "ABX9TyMf8BGcurjtbjhV6mlfYaKT",
      "include_colab_link": true
    },
    "kernelspec": {
      "name": "python3",
      "display_name": "Python 3"
    },
    "language_info": {
      "name": "python"
    }
  },
  "cells": [
    {
      "cell_type": "markdown",
      "metadata": {
        "id": "view-in-github",
        "colab_type": "text"
      },
      "source": [
        "<a href=\"https://colab.research.google.com/github/RanguAjay123/CodeAlpha_Project_Name./blob/main/Music_Generation_with_AI.ipynb\" target=\"_parent\"><img src=\"https://colab.research.google.com/assets/colab-badge.svg\" alt=\"Open In Colab\"/></a>"
      ]
    },
    {
      "source": [
        "import pretty_midi\n",
        "import numpy as np\n",
        "import tensorflow as tf\n",
        "import os # Import the os module\n",
        "\n",
        "# 1. Data Preparation\n",
        "# Assume you have a MIDI file dataset for training\n",
        "# Load MIDI files and extract note sequences\n",
        "def load_midi_data(file_path):\n",
        "    midi_data = pretty_midi.PrettyMIDI(file_path)\n",
        "    notes = []\n",
        "    for instrument in midi_data.instruments:\n",
        "        for note in instrument.notes:\n",
        "            notes.append((note.pitch, note.start, note.end))\n",
        "    return notes\n",
        "\n",
        "# Example: Load a single MIDI file\n",
        "# Replace 'your_midi_file.mid' with the actual path to your MIDI file\n",
        "file_path = \"your_midi_file.mid\"\n",
        "\n",
        "# Check if the file exists\n",
        "if os.path.exists(file_path):\n",
        "    notes = load_midi_data(file_path)\n",
        "else:\n",
        "    print(f\"Error: MIDI file not found at: {file_path}\")\n",
        "    # Handle the error, e.g., exit the script or use a default MIDI file\n",
        "    # For example, you could exit:\n",
        "    # import sys\n",
        "    # sys.exit(1)\n",
        "\n",
        "# ... (rest of your code)"
      ],
      "cell_type": "code",
      "metadata": {
        "colab": {
          "base_uri": "https://localhost:8080/"
        },
        "id": "_F300B_DTIa5",
        "outputId": "336ec752-e246-4c04-96a9-03eea4f356ca"
      },
      "execution_count": 44,
      "outputs": [
        {
          "output_type": "stream",
          "name": "stdout",
          "text": [
            "Error: MIDI file not found at: your_midi_file.mid\n"
          ]
        }
      ]
    }
  ]
}