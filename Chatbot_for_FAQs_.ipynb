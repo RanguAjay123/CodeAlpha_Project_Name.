{
  "nbformat": 4,
  "nbformat_minor": 0,
  "metadata": {
    "colab": {
      "provenance": [],
      "authorship_tag": "ABX9TyOigyt8GKQt8jiUga8agOWg",
      "include_colab_link": true
    },
    "kernelspec": {
      "name": "python3",
      "display_name": "Python 3"
    },
    "language_info": {
      "name": "python"
    }
  },
  "cells": [
    {
      "cell_type": "markdown",
      "metadata": {
        "id": "view-in-github",
        "colab_type": "text"
      },
      "source": [
        "<a href=\"https://colab.research.google.com/github/RanguAjay123/CodeAlpha_Project_Name./blob/main/Chatbot_for_FAQs_.ipynb\" target=\"_parent\"><img src=\"https://colab.research.google.com/assets/colab-badge.svg\" alt=\"Open In Colab\"/></a>"
      ]
    },
    {
      "cell_type": "code",
      "execution_count": 7,
      "metadata": {
        "colab": {
          "base_uri": "https://localhost:8080/"
        },
        "id": "v38y5NaqvnQ-",
        "outputId": "6de7c0a4-7b61-4e41-9668-b02f8479b58f"
      },
      "outputs": [
        {
          "name": "stdout",
          "output_type": "stream",
          "text": [
            "Simple FAQ Chatbot - Type 'exit' to end.\n",
            "You: What is your name\n",
            "Chatbot: I am a simple chatbot.\n",
            "You: How are ypu\n",
            "Chatbot: I'm doing well, thank you for asking.\n",
            "You: exit\n"
          ]
        }
      ],
      "source": [
        "# Define your FAQs and responses\n",
        "faq_data = {\n",
        "    \"What is your name?\": \"I am a simple chatbot.\",\n",
        "\n",
        "    \"How are you?\": \"I'm doing well, thank you for asking.\",\n",
        "    \"What can you do?\": \"I can answer frequently asked questions.\",\n",
        "    \"Tell me a joke\": \"Why don't scientists trust atoms? Because they make up everything!\",\n",
        "    \"What is the weather like today?\": \"I'm sorry, I don't have real-time weather information.\"\n",
        "}\n",
        "\n",
        "def get_response(user_input):\n",
        "    \"\"\"Returns a response based on keyword matching with FAQs.\"\"\"\n",
        "    user_input = user_input.lower()\n",
        "    for question, answer in faq_data.items():\n",
        "        if any(keyword.lower() in user_input for keyword in question.lower().split()):\n",
        "            return answer\n",
        "    return \"I'm sorry, I don't have an answer to that question.\"\n",
        "\n",
        "# Chatbot loop\n",
        "print(\"Simple FAQ Chatbot - Type 'exit' to end.\")\n",
        "while True:\n",
        "    user_query = input(\"You: \")\n",
        "    if user_query.lower() == 'exit':\n",
        "        break\n",
        "    response = get_response(user_query)\n",
        "    print(\"Chatbot:\", response)"
      ]
    }
  ]
}